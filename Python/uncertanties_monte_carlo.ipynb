{
 "cells": [
  {
   "cell_type": "code",
   "execution_count": 1,
   "metadata": {},
   "outputs": [],
   "source": [
    "import numpy as np"
   ]
  },
  {
   "cell_type": "code",
   "execution_count": 17,
   "metadata": {},
   "outputs": [],
   "source": [
    "class ErrorEstimator:\n",
    "    def __init__(self, distribution, uncertanties, niter=10000, seed=None):\n",
    "        self.distr, self.uncs = list(self.check_np(distribution, uncertanties))\n",
    "        assert self.distr.shape == self.uncs.shape, 'Distribution and unceratinties must be same length,' \\\n",
    "                                                    + f' but {self.distr.shape} and {self.uncs.shape} given'\n",
    "        self.norm()\n",
    "        self.niter = niter\n",
    "        self.rng = np.random.default_rng(seed=seed)\n",
    "        self.bins = np.array(list(range(self.distr.size)))\n",
    "\n",
    "    def estimate_uncertanties(self, to_print=False):\n",
    "        x = np.empty([self.niter, self.distr.size])\n",
    "        for i, [m, s] in enumerate(zip(self.distr, self.uncs)):\n",
    "            x[:, i] = self.rng.normal(loc=m, scale=s, size=self.niter)\n",
    "\n",
    "        means = np.apply_along_axis(self.mean, 1, x)\n",
    "        vs = np.apply_along_axis(self.variance, 1, x)\n",
    "\n",
    "        result = {\n",
    "            'mean': means.mean(),\n",
    "            'mean_unc': means.std(),\n",
    "            'var': vs.mean(),\n",
    "            'var_unc': vs.std()\n",
    "        }\n",
    "        if to_print:\n",
    "            pr = f\"Mean: {result['mean']:.2f}+-{result['mean_unc']:.2f}\\n\" \\\n",
    "                 + f\"Variance: {result['var']:.2f}+-{result['var_unc']:.2f}\"\n",
    "            print(pr)\n",
    "            return\n",
    "        return result\n",
    "\n",
    "    def mean(self, d):\n",
    "        return d @ self.bins\n",
    "\n",
    "    def variance(self, d):\n",
    "        sbins = [i * i for i in self.bins]\n",
    "        return d @ sbins - (d @ self.bins) ** 2\n",
    "    \n",
    "    def norm(self):\n",
    "        if np.allclose(self.distr.sum(), 1):\n",
    "            return\n",
    "        denom = self.distr.sum()\n",
    "        self.distr = self.distr / denom\n",
    "        self.uncs = self.uncs / denom      \n",
    "\n",
    "    def check_np(self, *args):\n",
    "        for term in args:\n",
    "            if not isinstance(term, np.ndarray):\n",
    "                yield np.asarray(term)\n",
    "            else:\n",
    "                yield term"
   ]
  },
  {
   "cell_type": "markdown",
   "metadata": {},
   "source": [
    "### Input data:\n",
    "- d: distribution - emittion probabilities distribution that will be normed if it doesn't. \n",
    "- u: uncertanties - unceratinties of the distribution, will be normed as well. "
   ]
  },
  {
   "cell_type": "code",
   "execution_count": 14,
   "metadata": {},
   "outputs": [],
   "source": [
    "d = [0.009147, 0.072394, 0.237469, 0.341113, 0.236059, 0.080930, 0.017569, 0.004882, 0, 0.000437]\n",
    "u = [0.00069, 0.00191, 0.00285, 0.00308, 0.00253, 0.00170, 0.00113, 0.00080, 0.00042, 0.00010]"
   ]
  },
  {
   "cell_type": "code",
   "execution_count": 18,
   "metadata": {},
   "outputs": [
    {
     "name": "stdout",
     "output_type": "stream",
     "text": [
      "Mean: 3.06+-0.02\n",
      "Variance: 1.42+-0.05\n"
     ]
    }
   ],
   "source": [
    "ErrorEstimator(d, u).estimate_uncertanties(to_print=True)"
   ]
  },
  {
   "cell_type": "code",
   "execution_count": null,
   "metadata": {},
   "outputs": [],
   "source": []
  }
 ],
 "metadata": {
  "kernelspec": {
   "display_name": "Python 3",
   "language": "python",
   "name": "python3"
  },
  "language_info": {
   "codemirror_mode": {
    "name": "ipython",
    "version": 3
   },
   "file_extension": ".py",
   "mimetype": "text/x-python",
   "name": "python",
   "nbconvert_exporter": "python",
   "pygments_lexer": "ipython3",
   "version": "3.7.6"
  }
 },
 "nbformat": 4,
 "nbformat_minor": 4
}
